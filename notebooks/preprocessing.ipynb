{
 "cells": [
  {
   "cell_type": "code",
   "execution_count": 16,
   "metadata": {},
   "outputs": [
    {
     "name": "stdout",
     "output_type": "stream",
     "text": [
      "The formatted file 'data_formatted.txt' has been created with spaces added between combined names.\n"
     ]
    }
   ],
   "source": [
    "import re\n",
    "\n",
    "# Load text from the file data.txt\n",
    "with open('data.txt', 'r', encoding='utf-8') as file:\n",
    "    text = file.read()\n",
    "\n",
    "# Regex pattern to match various cases of combined names with any capitalization\n",
    "pattern = r'\\b([A-Za-z]+?)([A-Z][a-z]+|[A-Z]+[a-z]*)\\b'\n",
    "\n",
    "# Function to insert a space between the first and last names\n",
    "def insert_space(match):\n",
    "    first_name = match.group(1)\n",
    "    last_name = match.group(2)\n",
    "    return f\"{first_name} {last_name}\"\n",
    "\n",
    "# Apply the formatting to insert spaces in the matched names\n",
    "formatted_text = re.sub(pattern, insert_space, text)\n",
    "\n",
    "# Save the modified text to a new file for verification\n",
    "with open('test_formatted.txt', 'w', encoding='utf-8') as file:\n",
    "    file.write(formatted_text)\n",
    "\n",
    "print(\"The formatted file 'data_formatted.txt' has been created with spaces added between combined names.\")\n"
   ]
  },
  {
   "cell_type": "code",
   "execution_count": 17,
   "metadata": {},
   "outputs": [
    {
     "name": "stdout",
     "output_type": "stream",
     "text": [
      "The file 'data_correctly_formatted.txt' has been created with names formatted correctly.\n"
     ]
    }
   ],
   "source": [
    "# Open the data_formatted.txt file and read its contents\n",
    "with open('test_formatted.txt', 'r', encoding='utf-8') as file:\n",
    "    lines = file.readlines()\n",
    "\n",
    "# Process each line to ensure correct capitalization for names\n",
    "formatted_lines = []\n",
    "for line in lines:\n",
    "    # Split each line by spaces to process each word\n",
    "    words = line.split()\n",
    "    formatted_words = []\n",
    "    for word in words:\n",
    "        # Capitalize each word correctly (first letter uppercase, rest lowercase)\n",
    "        formatted_words.append(word.capitalize())\n",
    "    # Join the words back into a line with the correct format\n",
    "    formatted_lines.append(\" \".join(formatted_words))\n",
    "\n",
    "# Write the corrected lines to a new file\n",
    "with open('testcorrect.formatted.txt', 'w', encoding='utf-8') as file:\n",
    "    file.write(\"\\n\".join(formatted_lines))\n",
    "\n",
    "print(\"The file 'data_correctly_formatted.txt' has been created with names formatted correctly.\")\n"
   ]
  },
  {
   "cell_type": "code",
   "execution_count": 19,
   "metadata": {},
   "outputs": [
    {
     "name": "stdout",
     "output_type": "stream",
     "text": [
      "The file 'test_correct.xml' has been created with CDATA formatting.\n"
     ]
    }
   ],
   "source": [
    "# Open the test_formatted.txt file and read its contents\n",
    "with open('data_corrected.txt', 'r', encoding='utf-8') as file:\n",
    "    text_content = file.read()\n",
    "\n",
    "# Prepare the XML structure with CDATA\n",
    "xml_content = \"\"\"<script>\n",
    "   <![CDATA[\n",
    "      {}\n",
    "   ]]>\n",
    "</script>\"\"\".format(text_content.strip())\n",
    "\n",
    "# Write the XML content to a new file\n",
    "with open('test_correct.xml', 'w', encoding='utf-8') as file:\n",
    "    file.write(xml_content)\n",
    "\n",
    "print(\"The file 'test_correct.xml' has been created with CDATA formatting.\")\n"
   ]
  },
  {
   "cell_type": "code",
   "execution_count": null,
   "metadata": {},
   "outputs": [],
   "source": [
    "# Open the test_formatted.txt file and read its contents\n",
    "with open('test_formatted.txt', 'r', encoding='utf-8') as file:\n",
    "    text_content = file.read()\n",
    "\n",
    "# Prepare the XML structure with CDATA\n",
    "xml_content = \"\"\"<script>\n",
    "   <![CDATA[\n",
    "      {}\n",
    "   ]]>\n",
    "</script>\"\"\".format(text_content.strip())\n",
    "\n",
    "# Write the XML content to a new file\n",
    "with open('test_correct.xml', 'w', encoding='utf-8') as file:\n",
    "    file.write(xml_content)\n",
    "\n",
    "print(\"The file 'test_correct.xml' has been created with CDATA formatting.\")\n"
   ]
  },
  {
   "cell_type": "code",
   "execution_count": 20,
   "metadata": {},
   "outputs": [
    {
     "name": "stdout",
     "output_type": "stream",
     "text": [
      "The file 'test_correct.xml' has been created with CDATA formatting.\n"
     ]
    }
   ],
   "source": [
    "# Open the test_formatted.txt file and read its contents\n",
    "with open('ticket2.txt', 'r', encoding='utf-8') as file:\n",
    "    text_content = file.read()\n",
    "\n",
    "# Prepare the XML structure with CDATA\n",
    "xml_content = \"\"\"<script>\n",
    "   <![CDATA[\n",
    "      {}\n",
    "   ]]>\n",
    "</script>\"\"\".format(text_content.strip())\n",
    "\n",
    "# Write the XML content to a new file\n",
    "with open('ticket2_correct.xml', 'w', encoding='utf-8') as file:\n",
    "    file.write(xml_content)\n",
    "\n",
    "print(\"The file 'test_correct.xml' has been created with CDATA formatting.\")"
   ]
  }
 ],
 "metadata": {
  "kernelspec": {
   "display_name": "Python 3",
   "language": "python",
   "name": "python3"
  },
  "language_info": {
   "codemirror_mode": {
    "name": "ipython",
    "version": 3
   },
   "file_extension": ".py",
   "mimetype": "text/x-python",
   "name": "python",
   "nbconvert_exporter": "python",
   "pygments_lexer": "ipython3",
   "version": "3.11.3"
  }
 },
 "nbformat": 4,
 "nbformat_minor": 2
}
